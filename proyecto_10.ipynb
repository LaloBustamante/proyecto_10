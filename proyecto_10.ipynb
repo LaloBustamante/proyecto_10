{
 "cells": [
  {
   "cell_type": "markdown",
   "metadata": {},
   "source": [
    "# Descripción del proyecto\n",
    "\n",
    "Los clientes de Beta Bank se están yendo, cada mes, poco a poco. Los banqueros descubrieron que es más barato salvar a los clientes existentes \n",
    "que atraer nuevos.\n",
    "Necesitamos predecir si un cliente dejará el banco pronto. Tú tienes los datos sobre el comportamiento pasado de los clientes y la terminación \n",
    "de contratos con el banco.\n",
    "Crea un modelo con el máximo valor F1 posible. Para aprobar la revisión, necesitas un valor F1 de al menos 0.59. Verifica F1 para el conjunto \n",
    "de prueba. \n",
    "Además, debes medir la métrica AUC-ROC y compararla con el valor F1.\n",
    "\n",
    "### Instrucciones del proyecto\n",
    "\n",
    "1. Descarga y prepara los datos.  Explica el procedimiento.\n",
    "2. Examina el equilibrio de clases. Entrena el modelo sin tener en cuenta el desequilibrio. Describe brevemente tus hallazgos.\n",
    "3. Mejora la calidad del modelo. Asegúrate de utilizar al menos dos enfoques para corregir el desequilibrio de clases. Utiliza conjuntos de \n",
    "entrenamiento y validación para encontrar el mejor modelo y el mejor conjunto de parámetros. Entrena diferentes modelos en los conjuntos de \n",
    "entrenamiento y validación. Encuentra el mejor. Describe brevemente tus hallazgos.\n",
    "4. Realiza la prueba final.\n",
    "\n",
    "### Descripción de los datos\n",
    "\n",
    "Puedes encontrar los datos en el archivo  /datasets/Churn.csv file. Descarga el conjunto de datos.\n",
    "\n",
    "Características\n",
    "\n",
    "* RowNumber: índice de cadena de datos\n",
    "* CustomerId: identificador de cliente único\n",
    "* Surname: apellido\n",
    "* CreditScore: valor de crédito\n",
    "* Geography: país de residencia\n",
    "* Gender: sexo\n",
    "* Age: edad\n",
    "* Tenure: período durante el cual ha madurado el depósito a plazo fijo de un cliente (años)\n",
    "* Balance: saldo de la cuenta\n",
    "* NumOfProducts: número de productos bancarios utilizados por el cliente\n",
    "* HasCrCard: el cliente tiene una tarjeta de crédito (1 - sí; 0 - no)\n",
    "* IsActiveMember: actividad del cliente (1 - sí; 0 - no)\n",
    "* EstimatedSalary: salario estimado\n",
    "\n",
    "Objetivo\n",
    "\n",
    "Exited: El cliente se ha ido (1 - sí; 0 - no)\n",
    "\n",
    "### Evaluación del proyecto\n",
    "\n",
    "Hemos definido los criterios de evaluación para el proyecto. Lee esto con atención antes de pasar al ejercicio.\n",
    "Esto es lo que los revisores buscarán cuando evalúen tu proyecto:\n",
    "* ¿Cómo preparaste los datos para el entrenamiento? ¿Procesaste todos los tipos de características?\n",
    "* ¿Explicaste los pasos de preprocesamiento lo suficientemente bien?\n",
    "* ¿Cómo investigaste el equilibrio de clases?\n",
    "* ¿Estudiaste el modelo sin tener en cuenta el desequilibrio de clases?\n",
    "* ¿Qué descubriste sobre la investigación del ejercicio?\n",
    "* ¿Dividiste correctamente los datos en conjuntos?\n",
    "* ¿Cómo trabajaste con el desequilibrio de clases?\n",
    "* ¿Utilizaste al menos dos técnicas para corregir el desequilibrio?\n",
    "* ¿Realizaste correctamente el entrenamiento, la validación y las pruebas finales del modelo?\n",
    "* ¿Qué tan alto es tu valor F1?\n",
    "* ¿Examinaste los valores AUC-ROC?\n",
    "* ¿Mantuviste la estructura del proyecto y el código limpio?\n"
   ]
  },
  {
   "cell_type": "code",
   "execution_count": 1,
   "metadata": {},
   "outputs": [],
   "source": [
    "# Importando librerias\n",
    "import pandas as pd\n",
    "import seaborn as sns\n",
    "import matplotlib.pyplot as plt\n",
    "from sklearn.model_selection import train_test_split\n",
    "from sklearn.linear_model import LogisticRegression\n",
    "from sklearn.metrics import f1_score, roc_auc_score\n",
    "from sklearn.utils import resample"
   ]
  },
  {
   "cell_type": "code",
   "execution_count": 2,
   "metadata": {},
   "outputs": [],
   "source": [
    "# Exploración inicial de los datos\n",
    "# Paso 1 Cargar los datos desde la ruta en WSL\n",
    "data = pd.read_csv('datasets/Churn.csv')"
   ]
  },
  {
   "cell_type": "code",
   "execution_count": 3,
   "metadata": {},
   "outputs": [
    {
     "name": "stdout",
     "output_type": "stream",
     "text": [
      "   RowNumber  CustomerId   Surname  CreditScore Geography  Gender  Age  \\\n",
      "0          1    15634602  Hargrave          619    France  Female   42   \n",
      "1          2    15647311      Hill          608     Spain  Female   41   \n",
      "2          3    15619304      Onio          502    France  Female   42   \n",
      "3          4    15701354      Boni          699    France  Female   39   \n",
      "4          5    15737888  Mitchell          850     Spain  Female   43   \n",
      "\n",
      "   Tenure    Balance  NumOfProducts  HasCrCard  IsActiveMember  \\\n",
      "0     2.0       0.00              1          1               1   \n",
      "1     1.0   83807.86              1          0               1   \n",
      "2     8.0  159660.80              3          1               0   \n",
      "3     1.0       0.00              2          0               0   \n",
      "4     2.0  125510.82              1          1               1   \n",
      "\n",
      "   EstimatedSalary  Exited  \n",
      "0        101348.88       1  \n",
      "1        112542.58       0  \n",
      "2        113931.57       1  \n",
      "3         93826.63       0  \n",
      "4         79084.10       0  \n",
      "<class 'pandas.core.frame.DataFrame'>\n",
      "RangeIndex: 10000 entries, 0 to 9999\n",
      "Data columns (total 14 columns):\n",
      " #   Column           Non-Null Count  Dtype  \n",
      "---  ------           --------------  -----  \n",
      " 0   RowNumber        10000 non-null  int64  \n",
      " 1   CustomerId       10000 non-null  int64  \n",
      " 2   Surname          10000 non-null  object \n",
      " 3   CreditScore      10000 non-null  int64  \n",
      " 4   Geography        10000 non-null  object \n",
      " 5   Gender           10000 non-null  object \n",
      " 6   Age              10000 non-null  int64  \n",
      " 7   Tenure           9091 non-null   float64\n",
      " 8   Balance          10000 non-null  float64\n",
      " 9   NumOfProducts    10000 non-null  int64  \n",
      " 10  HasCrCard        10000 non-null  int64  \n",
      " 11  IsActiveMember   10000 non-null  int64  \n",
      " 12  EstimatedSalary  10000 non-null  float64\n",
      " 13  Exited           10000 non-null  int64  \n",
      "dtypes: float64(3), int64(8), object(3)\n",
      "memory usage: 1.1+ MB\n",
      "None\n",
      "         RowNumber    CustomerId   CreditScore           Age       Tenure  \\\n",
      "count  10000.00000  1.000000e+04  10000.000000  10000.000000  9091.000000   \n",
      "mean    5000.50000  1.569094e+07    650.528800     38.921800     4.997690   \n",
      "std     2886.89568  7.193619e+04     96.653299     10.487806     2.894723   \n",
      "min        1.00000  1.556570e+07    350.000000     18.000000     0.000000   \n",
      "25%     2500.75000  1.562853e+07    584.000000     32.000000     2.000000   \n",
      "50%     5000.50000  1.569074e+07    652.000000     37.000000     5.000000   \n",
      "75%     7500.25000  1.575323e+07    718.000000     44.000000     7.000000   \n",
      "max    10000.00000  1.581569e+07    850.000000     92.000000    10.000000   \n",
      "\n",
      "             Balance  NumOfProducts    HasCrCard  IsActiveMember  \\\n",
      "count   10000.000000   10000.000000  10000.00000    10000.000000   \n",
      "mean    76485.889288       1.530200      0.70550        0.515100   \n",
      "std     62397.405202       0.581654      0.45584        0.499797   \n",
      "min         0.000000       1.000000      0.00000        0.000000   \n",
      "25%         0.000000       1.000000      0.00000        0.000000   \n",
      "50%     97198.540000       1.000000      1.00000        1.000000   \n",
      "75%    127644.240000       2.000000      1.00000        1.000000   \n",
      "max    250898.090000       4.000000      1.00000        1.000000   \n",
      "\n",
      "       EstimatedSalary        Exited  \n",
      "count     10000.000000  10000.000000  \n",
      "mean     100090.239881      0.203700  \n",
      "std       57510.492818      0.402769  \n",
      "min          11.580000      0.000000  \n",
      "25%       51002.110000      0.000000  \n",
      "50%      100193.915000      0.000000  \n",
      "75%      149388.247500      0.000000  \n",
      "max      199992.480000      1.000000  \n"
     ]
    }
   ],
   "source": [
    "# Visualizar las primeras filas\n",
    "print(data.head())\n",
    "\n",
    "\n",
    "# Mostrar la información general del dataset\n",
    "print(data.info())\n",
    "\n",
    "\n",
    "# Descripción estadística de las variables numéricas\n",
    "print(data.describe())"
   ]
  },
  {
   "cell_type": "markdown",
   "metadata": {},
   "source": [
    "Este código cargará el archivo Churn.csv, mostrará las primeras filas del dataset, identificará detalles generales del dataset, verificar \n",
    "tipos de datos, verificar valores faltantes y revisar estadísticas básicas como medias, medianas y distribuciones de las variables numéricas."
   ]
  },
  {
   "cell_type": "markdown",
   "metadata": {},
   "source": [
    "### Estructura del dataset:\n",
    "Se tienen 10,000 registros y 14 columnas.  \n",
    "Algunas columnas clave son:  \n",
    "\n",
    "- CreditScore: Puntuación de crédito.\n",
    "- Geography: País de residencia.\n",
    "- Gender: Género.\n",
    "- Age: Edad.\n",
    "- Tenure: Años de relación con el banco (aunque tiene algunos valores nulos).\n",
    "- Balance: Saldo de cuenta.\n",
    "- NumOfProducts: Número de productos bancarios utilizados.\n",
    "- HasCrCard: Si tiene tarjeta de crédito (1 = Sí, 0 = No).\n",
    "- IsActiveMember: Si es un miembro activo (1 = Sí, 0 = No).\n",
    "- EstimatedSalary: Salario estimado.\n",
    "- Exited: Variable objetivo, indica si el cliente se fue (1) o se quedó (0)."
   ]
  },
  {
   "cell_type": "code",
   "execution_count": 4,
   "metadata": {},
   "outputs": [
    {
     "name": "stdout",
     "output_type": "stream",
     "text": [
      "<class 'pandas.core.frame.DataFrame'>\n",
      "RangeIndex: 10000 entries, 0 to 9999\n",
      "Data columns (total 12 columns):\n",
      " #   Column             Non-Null Count  Dtype  \n",
      "---  ------             --------------  -----  \n",
      " 0   CreditScore        10000 non-null  int64  \n",
      " 1   Age                10000 non-null  int64  \n",
      " 2   Tenure             10000 non-null  float64\n",
      " 3   Balance            10000 non-null  float64\n",
      " 4   NumOfProducts      10000 non-null  int64  \n",
      " 5   HasCrCard          10000 non-null  int64  \n",
      " 6   IsActiveMember     10000 non-null  int64  \n",
      " 7   EstimatedSalary    10000 non-null  float64\n",
      " 8   Exited             10000 non-null  int64  \n",
      " 9   Geography_Germany  10000 non-null  bool   \n",
      " 10  Geography_Spain    10000 non-null  bool   \n",
      " 11  Gender_Male        10000 non-null  bool   \n",
      "dtypes: bool(3), float64(3), int64(6)\n",
      "memory usage: 732.5 KB\n",
      "None\n"
     ]
    }
   ],
   "source": [
    "# Paso 2 Limpieza de datos\n",
    "# Eliminar columnas innecesarias\n",
    "data_cleaned = data.drop(['RowNumber', 'CustomerId', 'Surname'], axis=1)\n",
    "\n",
    "# Imputar valores nulos de 'Tenure' con la mediana\n",
    "data_cleaned['Tenure'].fillna(data_cleaned['Tenure'].median(), inplace=True)\n",
    "\n",
    "# Convertir variables categóricas en variables numéricas\n",
    "data_cleaned = pd.get_dummies(data_cleaned, columns=['Geography', 'Gender'], drop_first=True)\n",
    "\n",
    "# Verificar la limpieza\n",
    "print(data_cleaned.info())"
   ]
  },
  {
   "cell_type": "markdown",
   "metadata": {},
   "source": [
    "Se realizaron las siguientes acciones:  \n",
    "\n",
    "Se eliminaron columnas irrelevantes (RowNumber, CustomerId, Surname).  \n",
    "Se imputaron valores nulos en Tenure.  \n",
    "Se convirtieron las variables categóricas (Geography, Gender) a variables numéricas.  \n",
    "Al hacer esto se asegura que los datos esten preparados para el modelo."
   ]
  },
  {
   "cell_type": "code",
   "execution_count": 5,
   "metadata": {},
   "outputs": [
    {
     "name": "stderr",
     "output_type": "stream",
     "text": [
      "/tmp/ipykernel_8760/54198314.py:3: FutureWarning: \n",
      "\n",
      "Passing `palette` without assigning `hue` is deprecated and will be removed in v0.14.0. Assign the `x` variable to `hue` and set `legend=False` for the same effect.\n",
      "\n",
      "  sns.countplot(x='Exited', data=data_cleaned, palette=\"deep\")\n"
     ]
    },
    {
     "data": {
      "image/png": "[encoded data removed]",
      "text/plain": [
       "<Figure size 640x480 with 1 Axes>"
      ]
     },
     "metadata": {},
     "output_type": "display_data"
    },
    {
     "name": "stdout",
     "output_type": "stream",
     "text": [
      "Exited\n",
      "0    0.7963\n",
      "1    0.2037\n",
      "Name: proportion, dtype: float64\n"
     ]
    }
   ],
   "source": [
    "# Paso 3 Análisis del desequilibrio de clases\n",
    "# Visualizar el desequilibrio de clases\n",
    "sns.countplot(x='Exited', data=data_cleaned, palette=\"deep\")\n",
    "plt.title('Distribución de clases: Clientes que se han ido vs los que se quedan')\n",
    "plt.xticks([0, 1], ['Clientes no se han ido', 'Clientes si se han ido'])\n",
    "plt.show()\n",
    "\n",
    "\n",
    "# Calcular la proporción de clases\n",
    "class_distribution = data_cleaned['Exited'].value_counts(normalize=True)\n",
    "print(class_distribution)"
   ]
  },
  {
   "cell_type": "markdown",
   "metadata": {},
   "source": [
    "Este código generará un gráfico de barras que mostrará el desequilibrio en las clases y calculará la proporción.  \n",
    "Se visualiza si existe un desequilibrio en las clases, es decir, cuántos clientes se han ido vs. los que se han quedado.  \n",
    "Ahora se procede a analizar el desequilibrio en las clases (clientes que se fueron vs. los que se quedaron). Esto es crucial para entrenar \n",
    "el modelo. "
   ]
  },
  {
   "cell_type": "markdown",
   "metadata": {},
   "source": [
    "La distribución de clases muestra un desequilibrio significativo:  \n",
    "  \n",
    "El 79.63% de los clientes no se han ido (valor Exited = 0).  \n",
    "El 20.37% de los clientes sí se han ido (valor Exited = 1).  \n",
    "  \n",
    "Este desequilibrio sugiere que necesitaremos implementar técnicas para ajustar las clases durante el entrenamiento del modelo, ya que los \n",
    "modelos pueden inclinarse hacia la clase mayoritaria (clientes que no se van)."
   ]
  },
  {
   "cell_type": "code",
   "execution_count": 6,
   "metadata": {},
   "outputs": [
    {
     "name": "stdout",
     "output_type": "stream",
     "text": [
      "Tamaño del conjunto de entrenamiento: (8000, 11)\n",
      "Tamaño del conjunto de prueba: (2000, 11)\n"
     ]
    }
   ],
   "source": [
    "# Paso 4 División del conjunto de datos en entrenamiento y prueba\n",
    "# Definir las características (X) y el objetivo (y)\n",
    "X = data_cleaned.drop('Exited', axis=1)  # Variables predictoras\n",
    "y = data_cleaned['Exited']               # Variable objetivo\n",
    "\n",
    "# Dividir los datos en conjunto de entrenamiento y prueba (80/20)\n",
    "X_train, X_test, y_train, y_test = train_test_split(X, y, test_size=0.2, random_state=42)\n",
    "\n",
    "# Mostrar el tamaño de los conjuntos de entrenamiento y prueba\n",
    "print(f'Tamaño del conjunto de entrenamiento: {X_train.shape}')\n",
    "print(f'Tamaño del conjunto de prueba: {X_test.shape}')"
   ]
  },
  {
   "cell_type": "markdown",
   "metadata": {},
   "source": [
    "Primero, se divide el conjunto de datos en un conjunto de entrenamiento (train) y un conjunto de prueba (test). Normalmente usamos un 80% \n",
    "de los datos para entrenamiento y un 20% para prueba.  \n",
    "Se utiliza un modelo básico de clasificación, como Logistic Regression como punto de partida."
   ]
  },
  {
   "cell_type": "code",
   "execution_count": 7,
   "metadata": {},
   "outputs": [
    {
     "name": "stdout",
     "output_type": "stream",
     "text": [
      "F1 Score: 0.12307692307692307\n",
      "AUC-ROC Score: 0.6688153450790196\n"
     ]
    }
   ],
   "source": [
    "# Paso 5: Entrenamiento del primer modelo\n",
    "# Entrenar un modelo de Regresión Logística\n",
    "model = LogisticRegression(random_state=42, max_iter=1000)\n",
    "model.fit(X_train, y_train)\n",
    "\n",
    "# Predecir en el conjunto de prueba\n",
    "y_pred = model.predict(X_test)\n",
    "\n",
    "# Calcular las métricas F1 y AUC-ROC\n",
    "f1 = f1_score(y_test, y_pred)\n",
    "auc_roc = roc_auc_score(y_test, model.predict_proba(X_test)[:, 1])\n",
    "\n",
    "# Mostrar los resultados\n",
    "print(f'F1 Score: {f1}')\n",
    "print(f'AUC-ROC Score: {auc_roc}')"
   ]
  },
  {
   "cell_type": "markdown",
   "metadata": {},
   "source": [
    "### Explicación:  \n",
    "División de datos: Creamos dos conjuntos: uno para entrenar y otro para probar la efectividad del modelo.  \n",
    "Regresión Logística: Entrenamos el modelo usando LogisticRegression, que es un modelo sencillo y eficiente para la clasificación binaria.  \n",
    "Métricas: Calculamos las métricas F1 y AUC-ROC para evaluar el desempeño del modelo.  \n",
    "\n",
    "Ya que se ha entrenado el primer modelo básico de Regresión Logística, se procede a mejorar la calidad del modelo ajustando el \n",
    "desequilibrio de clases."
   ]
  },
  {
   "cell_type": "markdown",
   "metadata": {},
   "source": [
    "Para mejorar el rendimiento del modelo y abordar el desequilibrio de clases, se aplicará dos enfoques:  \n",
    "\n",
    "Sobremuestreo de la clase minoritaria: Se utilizaremos para aumentar el número de instancias de la clase minoritaria."
   ]
  },
  {
   "cell_type": "code",
   "execution_count": 8,
   "metadata": {},
   "outputs": [
    {
     "name": "stdout",
     "output_type": "stream",
     "text": [
      "F1 Score con sobremuestreo: 0.4189852700490998\n",
      "AUC-ROC con sobremuestreo: 0.7180623575926569\n"
     ]
    }
   ],
   "source": [
    "# Paso 6 Mejorar la calidad del modelo ajustando el desequilibrio de clases\n",
    "# Combinar X_train y y_train para facilitar el sobremuestreo\n",
    "train_data = pd.concat([X_train, y_train], axis=1)\n",
    "\n",
    "# Separar las clases mayoritaria y minoritaria\n",
    "majority_class = train_data[train_data['Exited'] == 0]\n",
    "minority_class = train_data[train_data['Exited'] == 1]\n",
    "\n",
    "# Sobremuestrear la clase minoritaria\n",
    "minority_class_upsampled = resample(minority_class,\n",
    "                                    replace=True,     # Sobremuestreo con reemplazo\n",
    "                                    n_samples=len(majority_class),  # Igualar el número de muestras\n",
    "                                    random_state=42)\n",
    "\n",
    "# Combinar las clases nuevamente\n",
    "upsampled_train = pd.concat([majority_class, minority_class_upsampled])\n",
    "\n",
    "# Separar nuevamente X e y\n",
    "X_train_upsampled = upsampled_train.drop('Exited', axis=1)\n",
    "y_train_upsampled = upsampled_train['Exited']\n",
    "\n",
    "# Entrenar el modelo con los datos sobremuestreados\n",
    "model_upsampled = LogisticRegression(random_state=42, max_iter=1000)\n",
    "model_upsampled.fit(X_train_upsampled, y_train_upsampled)\n",
    "\n",
    "# Predecir en el conjunto de prueba\n",
    "y_pred_upsampled = model_upsampled.predict(X_test)\n",
    "\n",
    "# Calcular las métricas F1 y AUC-ROC\n",
    "f1_upsampled = f1_score(y_test, y_pred_upsampled)\n",
    "auc_roc_upsampled = roc_auc_score(y_test, model_upsampled.predict_proba(X_test)[:, 1])\n",
    "\n",
    "print(f'F1 Score con sobremuestreo: {f1_upsampled}')\n",
    "print(f'AUC-ROC con sobremuestreo: {auc_roc_upsampled}')"
   ]
  },
  {
   "cell_type": "markdown",
   "metadata": {},
   "source": [
    "Submuestreo de la clase mayoritaria: Es donde se reduce el número de instancias de la clase mayoritaria.  \n",
    "\n",
    "Estos enfoques ayudarán a evitar que el modelo se incline hacia la clase mayoritaria."
   ]
  },
  {
   "cell_type": "code",
   "execution_count": 9,
   "metadata": {},
   "outputs": [
    {
     "name": "stdout",
     "output_type": "stream",
     "text": [
      "F1 Score con submuestreo: 0.4276729559748428\n",
      "AUC-ROC con submuestreo: 0.7092222164164098\n"
     ]
    }
   ],
   "source": [
    "# Submuestrear la clase mayoritaria\n",
    "majority_class_downsampled = resample(majority_class,\n",
    "                                      replace=False,    # Submuestreo sin reemplazo\n",
    "                                      n_samples=len(minority_class),  # Igualar las muestras\n",
    "                                      random_state=42)\n",
    "\n",
    "# Combinar nuevamente las clases\n",
    "downsampled_train = pd.concat([majority_class_downsampled, minority_class])\n",
    "\n",
    "# Separar nuevamente X e y\n",
    "X_train_downsampled = downsampled_train.drop('Exited', axis=1)\n",
    "y_train_downsampled = downsampled_train['Exited']\n",
    "\n",
    "# Entrenar el modelo con los datos submuestreados\n",
    "model_downsampled = LogisticRegression(random_state=42, max_iter=1000)\n",
    "model_downsampled.fit(X_train_downsampled, y_train_downsampled)\n",
    "\n",
    "# Predecir en el conjunto de prueba\n",
    "y_pred_downsampled = model_downsampled.predict(X_test)\n",
    "\n",
    "# Calcular las métricas F1 y AUC-ROC\n",
    "f1_downsampled = f1_score(y_test, y_pred_downsampled)\n",
    "auc_roc_downsampled = roc_auc_score(y_test, model_downsampled.predict_proba(X_test)[:, 1])\n",
    "\n",
    "print(f'F1 Score con submuestreo: {f1_downsampled}')\n",
    "print(f'AUC-ROC con submuestreo: {auc_roc_downsampled}')\n"
   ]
  },
  {
   "cell_type": "markdown",
   "metadata": {},
   "source": [
    "### Explicación:  \n",
    "Sobremuestreo: Se crean más instancias de la clase minoritaria para igualar el número de ejemplos en ambas clases.  \n",
    "Submuestreo: Se reduce el número de instancias de la clase mayoritaria para balancear el conjunto de datos.  \n",
    "Evaluación: Se calculan las métricas F1 y AUC-ROC para evaluar el rendimiento de ambos enfoques.  \n",
    "\n",
    "Con los resultados obtenidos, se puede observar que los enfoques de sobremuestreo y submuestreo han mejorado significativamente el desempeño \n",
    "del modelo en términos de F1 Score y AUC-ROC, especialmente en comparación con el modelo básico.  \n",
    "\n",
    "El F1 Score aumentó considerablemente de 0.123 a aproximadamente 0.419 con sobremuestreo y 0.428 con submuestreo, lo que indica que ambos \n",
    "enfoques mejoraron el rendimiento en cuanto a la clasificación de la clase minoritaria (clientes que abandonan). Sin embargo, el AUC-ROC \n",
    "del modelo con sobremuestreo (0.718) es ligeramente superior al del submuestreo (0.709), lo que sugiere que el modelo con sobremuestreo tiene \n",
    "un mejor equilibrio en la clasificación general de ambas clases.  \n",
    "\n",
    "Dado que el modelo con submuestreo ha mostrado mejores resultados en el F1 Score, se utilizará para la prueba final."
   ]
  },
  {
   "cell_type": "markdown",
   "metadata": {},
   "source": [
    "Para este paso:\n",
    "\n",
    "Se utilizará el mejor modelo (con submuestreo) y se evaluará su rendimiento en el conjunto de prueba.  \n",
    "Se validará que el F1 Score supere el umbral de 0.59 para cumplir con los requisitos del proyecto.  \n",
    "Se realizará la comparación del F1 Score con el AUC-ROC obtenido en la prueba final.  "
   ]
  },
  {
   "cell_type": "code",
   "execution_count": 10,
   "metadata": {},
   "outputs": [
    {
     "name": "stdout",
     "output_type": "stream",
     "text": [
      "F1 Score final: 0.4276729559748428\n",
      "AUC-ROC final: 0.7092222164164098\n"
     ]
    }
   ],
   "source": [
    "# Paso 7 Realizar la prueba final\n",
    "# Predecir en el conjunto de prueba final\n",
    "y_pred_final = model_downsampled.predict(X_test)\n",
    "\n",
    "# Calcular las métricas finales F1 y AUC-ROC\n",
    "f1_final = f1_score(y_test, y_pred_final)\n",
    "auc_roc_final = roc_auc_score(y_test, model_downsampled.predict_proba(X_test)[:, 1])\n",
    "\n",
    "print(f'F1 Score final: {f1_final}')\n",
    "print(f'AUC-ROC final: {auc_roc_final}')"
   ]
  },
  {
   "cell_type": "markdown",
   "metadata": {},
   "source": [
    "El resultado final que se ha obtenido, con un F1 Score de 0.428 y un AUC-ROC de 0.709, indica que aunque ha mejorado el modelo en comparación \n",
    "con el modelo básico, no se ha alcanzado el umbral mínimo de F1 Score de 0.59 establecido para el proyecto."
   ]
  }
 ],
 "metadata": {
  "kernelspec": {
   "display_name": "Python 3",
   "language": "python",
   "name": "python3"
  },
  "language_info": {
   "codemirror_mode": {
    "name": "ipython",
    "version": 3
   },
   "file_extension": ".py",
   "mimetype": "text/x-python",
   "name": "python",
   "nbconvert_exporter": "python",
   "pygments_lexer": "ipython3",
   "version": "3.8.10"
  }
 },
 "nbformat": 4,
 "nbformat_minor": 2
}
